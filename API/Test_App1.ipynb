{
 "cells": [
  {
   "cell_type": "code",
   "execution_count": null,
   "metadata": {
    "pycharm": {
     "is_executing": true
    }
   },
   "outputs": [],
   "source": [
    "import pandas as pd\n",
    "import numpy as np\n",
    "from sklearn.model_selection import train_test_split\n",
    "\n",
    "\n",
    "\n",
    "\n",
    "# Pickle model \n",
    "#boosting_model.save('boosting_model.h5')\n",
    "\n",
    "# read a pickle pd.read_pickle('model.pkl')\n",
    "\n"
   ]
  },
  {
   "cell_type": "code",
   "execution_count": null,
   "metadata": {
    "pycharm": {
     "is_executing": true
    }
   },
   "outputs": [],
   "source": [
    "data = pd.read_csv(\"/Users/louisefarre/Desktop/obesity.csv\")\n"
   ]
  },
  {
   "cell_type": "code",
   "execution_count": null,
   "metadata": {
    "pycharm": {
     "is_executing": true
    }
   },
   "outputs": [],
   "source": [
    "print(data.head())"
   ]
  },
  {
   "cell_type": "code",
   "execution_count": null,
   "metadata": {
    "pycharm": {
     "is_executing": true
    }
   },
   "outputs": [],
   "source": [
    "df = data.copy()\n",
    "\n",
    "df = df.drop('Weight',axis = 1)\n",
    "df = df.drop('Height',axis = 1)"
   ]
  },
  {
   "cell_type": "code",
   "execution_count": null,
   "metadata": {
    "pycharm": {
     "is_executing": true
    }
   },
   "outputs": [],
   "source": [
    "df"
   ]
  },
  {
   "cell_type": "code",
   "execution_count": null,
   "metadata": {
    "pycharm": {
     "is_executing": true
    }
   },
   "outputs": [],
   "source": [
    "trainset, testset = train_test_split(df, test_size=0.3, random_state=0)"
   ]
  },
  {
   "cell_type": "code",
   "execution_count": null,
   "metadata": {
    "pycharm": {
     "is_executing": true
    }
   },
   "outputs": [],
   "source": [
    "\n",
    "def encodage(df):\n",
    "    code = {'yes':1,\n",
    "            'no':0,\n",
    "            'Female':1,\n",
    "            'Male':0,\n",
    "            'Never':0,\n",
    "            'Sometimes':1,\n",
    "            'Frequently':2,\n",
    "            'Always':3,\n",
    "            'Automobile':1,\n",
    "            'Motorbike':2,\n",
    "            'Bike':3, \n",
    "            'Public_Transportation':4,\n",
    "            'Walking':5, \n",
    "            \n",
    "            'Insufficient_Weight':0,\n",
    "            'Normal_Weight':1 ,\n",
    "            'Overweight_Level_I':2 ,\n",
    "            'Overweight_Level_II':3,\n",
    "            'Obesity_Type_I':4,            \n",
    "            'Obesity_Type_II':5,\n",
    "            'Obesity_Type_III':6\n",
    "           }\n",
    "\n",
    "    for col in df.select_dtypes('object').columns:\n",
    "        df.loc[:,col] = df[col].map(code)\n",
    "    \n",
    "    return df\n",
    "\n",
    "encodage(df)\n",
    "\n"
   ]
  },
  {
   "cell_type": "code",
   "execution_count": null,
   "metadata": {
    "pycharm": {
     "is_executing": true
    }
   },
   "outputs": [],
   "source": [
    "\n",
    "def preprocessing(df):\n",
    "    \n",
    "    df = encodage(df)\n",
    "\n",
    "    X = df.drop('NObeyesdad',axis = 1)\n",
    "    Y = df['NObeyesdad']\n",
    "    \n",
    "    print(Y.value_counts())\n",
    "    \n",
    "    return X, Y\n",
    "\n",
    "preprocessing(df)"
   ]
  },
  {
   "cell_type": "code",
   "execution_count": null,
   "metadata": {
    "pycharm": {
     "is_executing": true
    }
   },
   "outputs": [],
   "source": [
    "\n",
    "X_train, Y_train = preprocessing(trainset)\n",
    "\n",
    "X_test, Y_test = preprocessing(testset)"
   ]
  },
  {
   "cell_type": "code",
   "execution_count": null,
   "metadata": {
    "pycharm": {
     "is_executing": true
    }
   },
   "outputs": [],
   "source": [
    "\n",
    "from sklearn.ensemble import GradientBoostingClassifier\n",
    "\n",
    "boosting_model = GradientBoostingClassifier(n_estimators = 1500,\n",
    "                                                   max_depth = 5,\n",
    "                                                   learning_rate = 0.05,\n",
    "                                                   random_state = 0)\n",
    "boosting_model.fit(X_train, Y_train)\n",
    "\n",
    "\n"
   ]
  },
  {
   "cell_type": "code",
   "execution_count": null,
   "metadata": {
    "pycharm": {
     "is_executing": true
    }
   },
   "outputs": [],
   "source": [
    "\n",
    "# Take input from user\n",
    "Gender = float(input(\"Enter your gender: \"))\n",
    "Age = float(input(\"Enter your age: \"))\n",
    "family_history_with_overweight = float(input(\"Did you family have an history of overweight? : \"))\n",
    "FAVC = float(input(\"Do you eat high caloric food ? : \"))\n",
    "FCVC = float(input(\"How often did you eat vegetables ? : \"))\n",
    "NCP = float(input(\"How many meals do you eat per days ? : \"))\n",
    "CAEC = float(input(\"How often do you eat between meals ? : \"))\n",
    "SMOKE = float(input(\"Do you smoke ? :\"))\n",
    "CH2O = float(input(\"How much do you drink ? :\"))\n",
    "SCC = float(input(\"Do you monitor your calories ? : \"))\n",
    "FAF = float(input(\"How often per week do you practice a physical activity ? : \"))\n",
    "TUE = float(input(\"How much do you use technology devices per day ? : \"))\n",
    "CALC = float(input(\"How often do you drink alcohol ? : \"))\n",
    "MTRANS = float(input(\"Which transportation do you use ? : \"))\n",
    "\n",
    "result = boosting_model.predict([[Gender,Age,family_history_with_overweight,FAVC,FCVC,NCP,CAEC,SMOKE,CH2O,SCC,FAF,TUE,CALC,MTRANS]])  # input must be 2D array\n",
    "print(result)\n"
   ]
  },
  {
   "cell_type": "code",
   "execution_count": null,
   "metadata": {
    "pycharm": {
     "is_executing": true
    }
   },
   "outputs": [],
   "source": [
    "import pickle\n",
    "\n",
    "ModelFile='modelPickle.pkl'\n",
    "\n",
    "with open(ModelFile, 'wb') as file:\n",
    "    pickle.dump(boosting_model, file)\n",
    "\n",
    "print('Done')\n"
   ]
  },
  {
   "cell_type": "code",
   "execution_count": null,
   "metadata": {
    "pycharm": {
     "is_executing": true
    }
   },
   "outputs": [],
   "source": []
  },
  {
   "cell_type": "code",
   "execution_count": null,
   "metadata": {
    "pycharm": {
     "is_executing": true
    }
   },
   "outputs": [],
   "source": [
    "\n"
   ]
  },
  {
   "cell_type": "code",
   "execution_count": null,
   "metadata": {
    "pycharm": {
     "is_executing": true
    }
   },
   "outputs": [],
   "source": []
  },
  {
   "cell_type": "code",
   "execution_count": null,
   "metadata": {
    "pycharm": {
     "is_executing": true
    }
   },
   "outputs": [],
   "source": []
  }
 ],
 "metadata": {
  "kernelspec": {
   "display_name": "Python 3",
   "language": "python",
   "name": "python3"
  },
  "language_info": {
   "codemirror_mode": {
    "name": "ipython",
    "version": 3
   },
   "file_extension": ".py",
   "mimetype": "text/x-python",
   "name": "python",
   "nbconvert_exporter": "python",
   "pygments_lexer": "ipython3",
   "version": "3.7.4"
  }
 },
 "nbformat": 4,
 "nbformat_minor": 2
}